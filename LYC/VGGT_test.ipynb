{
 "cells": [
  {
   "cell_type": "code",
   "execution_count": 4,
   "id": "e40f1cd5",
   "metadata": {},
   "outputs": [
    {
     "name": "stdout",
     "output_type": "stream",
     "text": [
      "GPU 0: NVIDIA RTX A5000\n",
      "GPU 1: NVIDIA RTX A6000\n",
      "GPU 2: NVIDIA RTX A5000\n",
      "Using GPU 0: NVIDIA RTX A5000\n"
     ]
    }
   ],
   "source": [
    "import os\n",
    "os.environ[\"CUDA_DEVICE_ORDER\"]=\"PCI_BUS_ID\"\n",
    "\n",
    "import torch\n",
    "\n",
    "# 檢查結果\n",
    "for i in range(torch.cuda.device_count()):\n",
    "    print(f\"GPU {i}: {torch.cuda.get_device_name(i)}\")\n",
    "\n",
    "\n",
    "# 選擇 GPU 編號（根據 CUDA_VISIBLE_DEVICES 的排序，如果沒設定，就是實體順序）\n",
    "selected_gpu = 0\n",
    "device = torch.device(f\"cuda:{selected_gpu}\" if torch.cuda.is_available() else \"cpu\")\n",
    "\n",
    "# 顯示目前選到的 GPU 型號\n",
    "if device.type == 'cuda':\n",
    "    gpu_name = torch.cuda.get_device_name(selected_gpu)\n",
    "    print(f\"Using GPU {selected_gpu}: {gpu_name}\")\n",
    "else:\n",
    "    print(\"Using CPU\")\n",
    "\n",
    "dtype = torch.bfloat16 if torch.cuda.get_device_capability()[0] >= 8 else torch.float16"
   ]
  },
  {
   "cell_type": "code",
   "execution_count": 5,
   "id": "c991c710",
   "metadata": {},
   "outputs": [],
   "source": [
    "import sys\n",
    "sys.path.append(\"/home/lyc/research/vggt\")"
   ]
  },
  {
   "cell_type": "code",
   "execution_count": 6,
   "id": "b130d644",
   "metadata": {},
   "outputs": [],
   "source": [
    "import glob\n",
    "import open3d as o3d\n",
    "import numpy as np\n",
    "from plyfile import PlyData, PlyElement\n",
    "import matplotlib.pyplot as plt\n",
    "import matplotlib.cm as cm\n",
    "from vggt.models.vggt import VGGT\n",
    "from vggt.utils.load_fn import load_and_preprocess_images\n",
    "from vggt.utils.pose_enc import pose_encoding_to_extri_intri\n",
    "\n"
   ]
  },
  {
   "cell_type": "code",
   "execution_count": 7,
   "id": "03b263e4",
   "metadata": {},
   "outputs": [
    {
     "name": "stdout",
     "output_type": "stream",
     "text": [
      "✅ 已儲存至 1.pt\n"
     ]
    }
   ],
   "source": [
    "# 初始化模型（並自動下載權重）\n",
    "model = VGGT.from_pretrained(\"facebook/VGGT-1B\").to(device)\n",
    "\n",
    "# 設定資料夾名稱與圖片路徑\n",
    "image_folder = \"data/Images/1\"\n",
    "image_paths = sorted(glob.glob(os.path.join(image_folder, \"*\")))\n",
    "\n",
    "# 預處理\n",
    "images = load_and_preprocess_images(image_paths).to(device)\n",
    "\n",
    "# 推論\n",
    "with torch.no_grad():\n",
    "    with torch.cuda.amp.autocast(dtype=dtype):\n",
    "        predictions = model(images)\n",
    "\n",
    "\n",
    "# 還原 extrinsics 和 intrinsics\n",
    "extri, intri = pose_encoding_to_extri_intri(predictions[\"pose_enc\"], images.shape[-2:])\n",
    "\n",
    "# 將 extrinsics 和 intrinsics 加入 predictions\n",
    "predictions[\"extri\"] = extri\n",
    "predictions[\"intri\"] = intri\n",
    "\n",
    "# 儲存成 .pt，檔名與資料夾名稱相同\n",
    "output_filename = f\"{os.path.basename(image_folder)}.pt\"\n",
    "torch.save(predictions, output_filename)\n",
    "print(f\"✅ 已儲存至 {output_filename}\")"
   ]
  },
  {
   "cell_type": "code",
   "execution_count": 8,
   "id": "663b0fe6",
   "metadata": {},
   "outputs": [
    {
     "name": "stdout",
     "output_type": "stream",
     "text": [
      "pose_enc: torch.Size([1, 17, 9])\n",
      "depth: torch.Size([1, 17, 392, 518, 1])\n",
      "depth_conf: torch.Size([1, 17, 392, 518])\n",
      "world_points: torch.Size([1, 17, 392, 518, 3])\n",
      "world_points_conf: torch.Size([1, 17, 392, 518])\n",
      "images: torch.Size([1, 17, 3, 392, 518])\n",
      "extri: torch.Size([1, 17, 3, 4])\n",
      "intri: torch.Size([1, 17, 3, 3])\n"
     ]
    }
   ],
   "source": [
    "for key, value in predictions.items():\n",
    "    if isinstance(value, torch.Tensor):\n",
    "        print(f\"{key}: {value.shape}\")\n",
    "    else:\n",
    "        print(f\"{key}: {type(value)}\")\n"
   ]
  }
 ],
 "metadata": {
  "kernelspec": {
   "display_name": "VGGT",
   "language": "python",
   "name": "python3"
  },
  "language_info": {
   "codemirror_mode": {
    "name": "ipython",
    "version": 3
   },
   "file_extension": ".py",
   "mimetype": "text/x-python",
   "name": "python",
   "nbconvert_exporter": "python",
   "pygments_lexer": "ipython3",
   "version": "3.10.16"
  }
 },
 "nbformat": 4,
 "nbformat_minor": 5
}
