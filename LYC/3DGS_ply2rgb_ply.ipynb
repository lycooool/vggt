{
 "cells": [
  {
   "cell_type": "code",
   "execution_count": 12,
   "id": "9db1a790",
   "metadata": {},
   "outputs": [],
   "source": [
    "import open3d as o3d\n",
    "import sys\n",
    "sys.path.append(\"/home/lyc/research/gaussian-splatting\")\n",
    "from utils.sh_utils import SH2RGB\n",
    "from scene.gaussian_model import GaussianModel"
   ]
  },
  {
   "cell_type": "code",
   "execution_count": 13,
   "id": "b26fc371",
   "metadata": {},
   "outputs": [],
   "source": [
    "gaussians = GaussianModel(sh_degree=3)\n",
    "gaussians.load_ply(\"/home/lyc/research/vggt/LYC_data/out_colmap_nerf_llff_data_only_20_img/horns_out/point_cloud/iteration_7000/point_cloud.ply\")\n"
   ]
  },
  {
   "cell_type": "code",
   "execution_count": 16,
   "id": "05a94339",
   "metadata": {},
   "outputs": [
    {
     "name": "stdout",
     "output_type": "stream",
     "text": [
      "\u001b[1;33m[Open3D WARNING] Write Ply clamped color value to valid range\u001b[0;m\n"
     ]
    },
    {
     "data": {
      "text/plain": [
       "True"
      ]
     },
     "execution_count": 16,
     "metadata": {},
     "output_type": "execute_result"
    }
   ],
   "source": [
    "# Imported from utils.sh_utils\n",
    "colors = SH2RGB(gaussians.get_features[:, 0, :])\n",
    "\n",
    "# Create PointCloud object\n",
    "pcd = o3d.geometry.PointCloud()\n",
    "pcd.points = o3d.utility.Vector3dVector(gaussians.get_xyz.detach().cpu().numpy())\n",
    "pcd.colors = o3d.utility.Vector3dVector(colors.detach().cpu().numpy())\n",
    "\n",
    "# Save to .ply file\n",
    "o3d.io.write_point_cloud(\"output_point_cloud.ply\", pcd)\n"
   ]
  }
 ],
 "metadata": {
  "kernelspec": {
   "display_name": "gaussian_splatting",
   "language": "python",
   "name": "python3"
  },
  "language_info": {
   "codemirror_mode": {
    "name": "ipython",
    "version": 3
   },
   "file_extension": ".py",
   "mimetype": "text/x-python",
   "name": "python",
   "nbconvert_exporter": "python",
   "pygments_lexer": "ipython3",
   "version": "3.7.16"
  }
 },
 "nbformat": 4,
 "nbformat_minor": 5
}
